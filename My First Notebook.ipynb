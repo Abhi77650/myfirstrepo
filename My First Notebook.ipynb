{
 "cells": [
  {
   "cell_type": "code",
   "execution_count": 1,
   "id": "426435ec",
   "metadata": {},
   "outputs": [
    {
     "name": "stdout",
     "output_type": "stream",
     "text": [
      "Hello world\n"
     ]
    }
   ],
   "source": [
    "print(\"Hello world\")"
   ]
  },
  {
   "cell_type": "code",
   "execution_count": 2,
   "id": "6948795f",
   "metadata": {},
   "outputs": [
    {
     "name": "stdout",
     "output_type": "stream",
     "text": [
      "Hi guys! My name is Abhinav. How are you doing?\n"
     ]
    }
   ],
   "source": [
    "print(\"Hi guys! My name is Abhinav. How are you doing?\")"
   ]
  },
  {
   "cell_type": "code",
   "execution_count": 3,
   "id": "757e21e5",
   "metadata": {},
   "outputs": [
    {
     "name": "stdout",
     "output_type": "stream",
     "text": [
      "this time i am using single quotes!\n"
     ]
    }
   ],
   "source": [
    "print('this time i am using single quotes!')"
   ]
  },
  {
   "cell_type": "code",
   "execution_count": 4,
   "id": "ad77c63e",
   "metadata": {},
   "outputs": [
    {
     "name": "stdout",
     "output_type": "stream",
     "text": [
      "I love Dogs\n"
     ]
    }
   ],
   "source": [
    "print('I love Dogs')"
   ]
  },
  {
   "cell_type": "code",
   "execution_count": 14,
   "id": "b9d1cbb0",
   "metadata": {},
   "outputs": [
    {
     "name": "stdout",
     "output_type": "stream",
     "text": [
      "5\n"
     ]
    }
   ],
   "source": [
    "x=10\n",
    "y=5\n",
    "print(y)"
   ]
  },
  {
   "cell_type": "code",
   "execution_count": 15,
   "id": "ccdcffad",
   "metadata": {},
   "outputs": [
    {
     "name": "stdout",
     "output_type": "stream",
     "text": [
      "10\n"
     ]
    }
   ],
   "source": [
    "print(x)"
   ]
  },
  {
   "cell_type": "code",
   "execution_count": 16,
   "id": "9cc19645",
   "metadata": {},
   "outputs": [
    {
     "name": "stdout",
     "output_type": "stream",
     "text": [
      "15\n"
     ]
    }
   ],
   "source": [
    "print(x+y)"
   ]
  },
  {
   "cell_type": "code",
   "execution_count": 17,
   "id": "b2a920ed",
   "metadata": {},
   "outputs": [
    {
     "name": "stdout",
     "output_type": "stream",
     "text": [
      "50\n"
     ]
    }
   ],
   "source": [
    "print(x*y)"
   ]
  },
  {
   "cell_type": "code",
   "execution_count": 18,
   "id": "19500fac",
   "metadata": {},
   "outputs": [
    {
     "name": "stdout",
     "output_type": "stream",
     "text": [
      "0\n"
     ]
    }
   ],
   "source": [
    "print(x%y)"
   ]
  },
  {
   "cell_type": "code",
   "execution_count": 20,
   "id": "8d7002fa",
   "metadata": {},
   "outputs": [
    {
     "name": "stdout",
     "output_type": "stream",
     "text": [
      "5\n"
     ]
    }
   ],
   "source": [
    "print(x-y)"
   ]
  },
  {
   "cell_type": "code",
   "execution_count": 21,
   "id": "1f81bee1",
   "metadata": {},
   "outputs": [
    {
     "name": "stdout",
     "output_type": "stream",
     "text": [
      "50\n"
     ]
    }
   ],
   "source": [
    "z=x*y\n",
    "print(z)"
   ]
  },
  {
   "cell_type": "code",
   "execution_count": 22,
   "id": "69980b91",
   "metadata": {},
   "outputs": [
    {
     "name": "stdout",
     "output_type": "stream",
     "text": [
      "sum of x & y = 15\n"
     ]
    }
   ],
   "source": [
    "print('sum of x & y =',x+y)"
   ]
  },
  {
   "cell_type": "code",
   "execution_count": 23,
   "id": "70202798",
   "metadata": {},
   "outputs": [
    {
     "name": "stdout",
     "output_type": "stream",
     "text": [
      "the values of x & y are 10 & 5 respectively.\n"
     ]
    }
   ],
   "source": [
    "print(\"the values of x & y are\",x,\"&\",y,\"respectively.\")"
   ]
  },
  {
   "cell_type": "code",
   "execution_count": 27,
   "id": "f52d75fc",
   "metadata": {},
   "outputs": [
    {
     "name": "stdout",
     "output_type": "stream",
     "text": [
      "multiply of x & Y = 50\n"
     ]
    }
   ],
   "source": [
    "print(\"multiply of x & Y =\",x*y)"
   ]
  },
  {
   "cell_type": "code",
   "execution_count": 1,
   "id": "04aefb3e",
   "metadata": {},
   "outputs": [
    {
     "name": "stdout",
     "output_type": "stream",
     "text": [
      "I start my class todat\n"
     ]
    }
   ],
   "source": [
    "print('I start my class todat')"
   ]
  },
  {
   "cell_type": "code",
   "execution_count": 3,
   "id": "4f7cf25e",
   "metadata": {},
   "outputs": [
    {
     "name": "stdout",
     "output_type": "stream",
     "text": [
      "the sum of x,y & z is = 120\n"
     ]
    }
   ],
   "source": [
    "x=23\n",
    "y=43\n",
    "z=54\n",
    "print('the sum of x,y & z is =',x+y+z)"
   ]
  },
  {
   "cell_type": "code",
   "execution_count": 4,
   "id": "54228536",
   "metadata": {},
   "outputs": [
    {
     "name": "stdout",
     "output_type": "stream",
     "text": [
      "I AM A FRESHER\n"
     ]
    }
   ],
   "source": [
    "print('I AM A FRESHER')"
   ]
  },
  {
   "cell_type": "code",
   "execution_count": 8,
   "id": "b4068711",
   "metadata": {},
   "outputs": [
    {
     "name": "stdout",
     "output_type": "stream",
     "text": [
      "i am a fresher\n"
     ]
    }
   ],
   "source": [
    "print('i am a fresher')"
   ]
  },
  {
   "cell_type": "code",
   "execution_count": null,
   "id": "19d17340",
   "metadata": {},
   "outputs": [],
   "source": []
  }
 ],
 "metadata": {
  "kernelspec": {
   "display_name": "Python 3 (ipykernel)",
   "language": "python",
   "name": "python3"
  },
  "language_info": {
   "codemirror_mode": {
    "name": "ipython",
    "version": 3
   },
   "file_extension": ".py",
   "mimetype": "text/x-python",
   "name": "python",
   "nbconvert_exporter": "python",
   "pygments_lexer": "ipython3",
   "version": "3.9.12"
  }
 },
 "nbformat": 4,
 "nbformat_minor": 5
}
